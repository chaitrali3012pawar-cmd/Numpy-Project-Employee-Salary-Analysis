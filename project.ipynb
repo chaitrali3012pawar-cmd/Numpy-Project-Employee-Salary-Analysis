{
 "cells": [
  {
   "cell_type": "markdown",
   "id": "976e9862",
   "metadata": {},
   "source": [
    "### NumPy Project : Employee Salary Analysis\n",
    "#### Objective:\n",
    "- Anaalyze employee salaries and find insights using NumPy.\n"
   ]
  },
  {
   "cell_type": "code",
   "execution_count": 4,
   "id": "37800958",
   "metadata": {},
   "outputs": [],
   "source": [
    "import numpy as np"
   ]
  },
  {
   "cell_type": "code",
   "execution_count": 6,
   "id": "86d0e431",
   "metadata": {},
   "outputs": [],
   "source": [
    "# Employees Salary data (in thousands)\n",
    "salaries = np.array([50,60,75,80,90,95,100,110,120,150,200])"
   ]
  },
  {
   "cell_type": "code",
   "execution_count": null,
   "id": "411fb1d5",
   "metadata": {},
   "outputs": [],
   "source": [
    "### Basic Analysis"
   ]
  },
  {
   "cell_type": "code",
   "execution_count": 8,
   "id": "145b42e1",
   "metadata": {},
   "outputs": [
    {
     "name": "stdout",
     "output_type": "stream",
     "text": [
      "Total employees: 11\n",
      "Minimum salary: 50\n",
      "maximum Salary: 200\n",
      "Avarage Salary: 102.72727272727273\n",
      "median Salary: 95.0\n"
     ]
    }
   ],
   "source": [
    "print(\"Total employees:\", salaries.size)\n",
    "print(\"Minimum salary:\", np.min(salaries))\n",
    "print(\"maximum Salary:\", np.max(salaries))\n",
    "print(\"Avarage Salary:\", np.average(salaries))\n",
    "print(\"median Salary:\", np.median(salaries))"
   ]
  },
  {
   "cell_type": "markdown",
   "id": "1d7fd520",
   "metadata": {},
   "source": [
    "- Minimum Salary is 50,000 and Maximum Salary is 200,000\n",
    "- The Avarage salary is about 102,000\n",
    "- The median salary helps avoid extreme biases."
   ]
  },
  {
   "cell_type": "markdown",
   "id": "030bea3e",
   "metadata": {},
   "source": [
    "### Salary Distribution"
   ]
  },
  {
   "cell_type": "code",
   "execution_count": 13,
   "id": "666b4338",
   "metadata": {},
   "outputs": [
    {
     "name": "stdout",
     "output_type": "stream",
     "text": [
      "Salary Standard Deviation:40.640532631376566\n",
      "Salary variance:1651.65\n"
     ]
    }
   ],
   "source": [
    "# Standard Deviation & Variance\n",
    "std_dev = np.std(salaries)\n",
    "\n",
    "Variance = np.var(salaries)\n",
    "\n",
    "print(f\"Salary Standard Deviation:{std_dev}\")\n",
    "print(f\"Salary variance:{Variance:.2f}\")"
   ]
  },
  {
   "cell_type": "markdown",
   "id": "b5bd8373",
   "metadata": {},
   "source": [
    "- A high standard deviation means salaries vary widely.\n",
    "- Variance quantifies this spread in numbers.\n"
   ]
  },
  {
   "cell_type": "markdown",
   "id": "6e0c0646",
   "metadata": {},
   "source": [
    "#### Filtering Employees with High Salaries"
   ]
  },
  {
   "cell_type": "code",
   "execution_count": 17,
   "id": "a08bef8b",
   "metadata": {},
   "outputs": [
    {
     "name": "stdout",
     "output_type": "stream",
     "text": [
      "Employees with salaries above 100,000: [110 120 150 200]\n"
     ]
    }
   ],
   "source": [
    "high_salary = salaries [salaries> 100]\n",
    "\n",
    "print(\"Employees with salaries above 100,000:\", high_salary)"
   ]
  },
  {
   "cell_type": "markdown",
   "id": "290056a5",
   "metadata": {},
   "source": [
    "- We find that employees earning mre than 100k"
   ]
  },
  {
   "cell_type": "markdown",
   "id": "858095c8",
   "metadata": {},
   "source": [
    "### Salary Growth over the years"
   ]
  },
  {
   "cell_type": "code",
   "execution_count": 22,
   "id": "a3476c5f",
   "metadata": {},
   "outputs": [
    {
     "name": "stdout",
     "output_type": "stream",
     "text": [
      "projected salaries after 5 years: [ 63.81  76.58  95.72 102.1  114.87 121.25 127.63 140.39 153.15 191.44\n",
      " 255.26]\n"
     ]
    }
   ],
   "source": [
    "## stimulated salary growth over 5 years (5% annual increament)\n",
    "\n",
    "years = 5\n",
    "Future_salaries = salaries * (1.05 ** years)\n",
    "\n",
    "print(\"projected salaries after 5 years:\", np.round(Future_salaries,2))"
   ]
  },
  {
   "cell_type": "markdown",
   "id": "e4dbb0ab",
   "metadata": {},
   "source": [
    "- Employee salaries grow by 5% each year.\n",
    "- Helps in financial planning.\n"
   ]
  },
  {
   "cell_type": "markdown",
   "id": "08b664ee",
   "metadata": {},
   "source": [
    "#### Final Project Summary\n",
    "\n",
    "- Metric\tValue\n",
    "- Minimum Salary\t50,000\n",
    "- Maximum Salary  200,000\n",
    "- Average Salary\t105,000\n",
    "- Median Salary\t95,000\n",
    "- Standard Deviation\tHigh\n",
    "- Future Salaries (5 yrs)\tProjected growth"
   ]
  },
  {
   "cell_type": "markdown",
   "id": "155ef5b4",
   "metadata": {},
   "source": [
    "#### Business Impact\n",
    "- This analysis helps HR and finance teams:\n",
    "- Identify salary gaps and improve compensation policies.\n",
    "- Plan for future salary increments.\n",
    "- Compare industry trends and ensure employee satisfaction.\n"
   ]
  },
  {
   "cell_type": "markdown",
   "id": "f869b5f9",
   "metadata": {},
   "source": [
    "#### Conclusion\n",
    "- NumPy is powerful for data analysis in various real-world applications like stock markets, weather monitoring, healthcare, e-commerce, and employee management."
   ]
  }
 ],
 "metadata": {
  "kernelspec": {
   "display_name": "Python 3",
   "language": "python",
   "name": "python3"
  },
  "language_info": {
   "codemirror_mode": {
    "name": "ipython",
    "version": 3
   },
   "file_extension": ".py",
   "mimetype": "text/x-python",
   "name": "python",
   "nbconvert_exporter": "python",
   "pygments_lexer": "ipython3",
   "version": "3.13.7"
  }
 },
 "nbformat": 4,
 "nbformat_minor": 5
}
